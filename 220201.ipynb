{
  "nbformat": 4,
  "nbformat_minor": 0,
  "metadata": {
    "colab": {
      "name": "220201.ipynb",
      "provenance": [],
      "collapsed_sections": [],
      "authorship_tag": "ABX9TyMisUtqM0hoU9O18+OOc8zu",
      "include_colab_link": true
    },
    "kernelspec": {
      "name": "python3",
      "display_name": "Python 3"
    },
    "language_info": {
      "name": "python"
    }
  },
  "cells": [
    {
      "cell_type": "markdown",
      "metadata": {
        "id": "view-in-github",
        "colab_type": "text"
      },
      "source": [
        "<a href=\"https://colab.research.google.com/github/yusangmin/2210/blob/main/220201.ipynb\" target=\"_parent\"><img src=\"https://colab.research.google.com/assets/colab-badge.svg\" alt=\"Open In Colab\"/></a>"
      ]
    },
    {
      "cell_type": "code",
      "execution_count": 1,
      "metadata": {
        "colab": {
          "base_uri": "https://localhost:8080/"
        },
        "id": "q_Qpc89UQIT9",
        "outputId": "bfb2fa58-1d28-4d96-d942-d64b5d797ca4"
      },
      "outputs": [
        {
          "output_type": "stream",
          "name": "stdout",
          "text": [
            "1\n",
            "2\n",
            "1 2\n",
            "안녕\n"
          ]
        }
      ],
      "source": [
        "x = 1             #변수 x = 숫자형 1 선언\n",
        "y = 2             #변수 y = 숫자형 2 선언\n",
        "\n",
        "print(x)          #변수 x를 출력\n",
        "print(y)          #변수 y를 출력\n",
        "print(x,y)        #변수 x와 y를 출력\n",
        "\n",
        "z = \"안녕\"        #변수 z = 문자형 \"안녕\"으로 선언\n",
        "print(z)          #문자형 z을 출력"
      ]
    },
    {
      "cell_type": "code",
      "source": [
        "x = 5        # 변수 x = 정수형 7를 선언\n",
        "y = 3        # 변수 y = 정수형 3을 선언\n",
        "\n",
        "z = 1.2      # 변수 z = 실수형 1.2를 선언\n",
        "\n",
        "print(\"1)\", x+y+z)        # 정수형 x,y와 실수형 z를 더한값 출력\n",
        "print(\"2)\", x-y-z)        # 정수형 x,y와 실수형 z를 빼기한값 출력 - print(\"2)\",(x-y)-z)\n",
        "print(\"3)\", x*y*z, \"\\n\")  # 정수형 x와 y를 곱한 값에 출력후 한줄 공백라인 \n",
        "print(\"4)\", x%y%z)        # x를 y로 나누고 남는 값에서 z나눠서 남는 값 출력 - print(\"4)\", (x%y)%z)\n",
        "print(\"5)\", x**y**z)      # x의 y곱에 z곱 - print(\"5)\", x**(y**z))\n",
        "print(\"5)\", (x**y)**z)    # x의 y곱하고 z곱 \n",
        "print(\"6)\", x**y)"
      ],
      "metadata": {
        "colab": {
          "base_uri": "https://localhost:8080/"
        },
        "id": "KLa5RhiETHyv",
        "outputId": "557979c8-9b7e-493a-8694-81ab370cdc97"
      },
      "execution_count": 2,
      "outputs": [
        {
          "output_type": "stream",
          "name": "stdout",
          "text": [
            "1) 9.2\n",
            "2) 0.8\n",
            "3) 18.0 \n",
            "\n",
            "4) 0.8\n",
            "5) 409.4356748283245\n",
            "5) 328.31597555047085\n",
            "6) 125\n"
          ]
        }
      ]
    }
  ]
}