{
  "nbformat": 4,
  "nbformat_minor": 0,
  "metadata": {
    "colab": {
      "name": "220201.ipynb",
      "provenance": [],
      "collapsed_sections": [],
      "authorship_tag": "ABX9TyPRhtUlrFotI6Mu7zrC1XDi",
      "include_colab_link": true
    },
    "kernelspec": {
      "name": "python3",
      "display_name": "Python 3"
    },
    "language_info": {
      "name": "python"
    }
  },
  "cells": [
    {
      "cell_type": "markdown",
      "metadata": {
        "id": "view-in-github",
        "colab_type": "text"
      },
      "source": [
        "<a href=\"https://colab.research.google.com/github/yusangmin/2210/blob/main/220201.ipynb\" target=\"_parent\"><img src=\"https://colab.research.google.com/assets/colab-badge.svg\" alt=\"Open In Colab\"/></a>"
      ]
    },
    {
      "cell_type": "code",
      "execution_count": null,
      "metadata": {
        "colab": {
          "base_uri": "https://localhost:8080/"
        },
        "id": "q_Qpc89UQIT9",
        "outputId": "bfb2fa58-1d28-4d96-d942-d64b5d797ca4"
      },
      "outputs": [
        {
          "output_type": "stream",
          "name": "stdout",
          "text": [
            "1\n",
            "2\n",
            "1 2\n",
            "안녕\n"
          ]
        }
      ],
      "source": [
        "x = 1             #변수 x = 숫자형 1 선언\n",
        "y = 2             #변수 y = 숫자형 2 선언\n",
        "\n",
        "print(x)          #변수 x를 출력\n",
        "print(y)          #변수 y를 출력\n",
        "print(x,y)        #변수 x와 y를 출력\n",
        "\n",
        "z = \"안녕\"        #변수 z = 문자형 \"안녕\"으로 선언\n",
        "print(z)          #문자형 z을 출력"
      ]
    }
  ]
}